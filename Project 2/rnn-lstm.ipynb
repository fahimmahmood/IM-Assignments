{
 "cells": [
  {
   "cell_type": "code",
   "execution_count": 1,
   "id": "colonial-needle",
   "metadata": {
    "_cell_guid": "b1076dfc-b9ad-4769-8c92-a6c4dae69d19",
    "_uuid": "8f2839f25d086af736a60e9eeb907d3b93b6e0e5",
    "execution": {
     "iopub.execute_input": "2021-06-25T14:42:12.268956Z",
     "iopub.status.busy": "2021-06-25T14:42:12.268243Z",
     "iopub.status.idle": "2021-06-25T14:42:18.311056Z",
     "shell.execute_reply": "2021-06-25T14:42:18.310278Z",
     "shell.execute_reply.started": "2021-06-23T07:06:32.956928Z"
    },
    "papermill": {
     "duration": 6.07111,
     "end_time": "2021-06-25T14:42:18.311234",
     "exception": false,
     "start_time": "2021-06-25T14:42:12.240124",
     "status": "completed"
    },
    "tags": []
   },
   "outputs": [],
   "source": [
    "import pandas as pd\n",
    "import numpy as np\n",
    "import matplotlib.pyplot as plt\n",
    "import seaborn as sns\n",
    "from sklearn.model_selection import train_test_split\n",
    "from sklearn.preprocessing import LabelEncoder\n",
    "from keras.models import Model\n",
    "from keras.layers import LSTM, Activation, Dense, Dropout, Input, Embedding\n",
    "from keras.optimizers import RMSprop\n",
    "from keras.preprocessing.text import Tokenizer\n",
    "from keras.preprocessing import sequence\n",
    "from keras.utils import to_categorical\n",
    "from keras.callbacks import EarlyStopping\n",
    "%matplotlib inline\n",
    "\n",
    "\n",
    "import multiprocessing"
   ]
  },
  {
   "cell_type": "code",
   "execution_count": 2,
   "id": "white-fisher",
   "metadata": {
    "execution": {
     "iopub.execute_input": "2021-06-25T14:42:18.343022Z",
     "iopub.status.busy": "2021-06-25T14:42:18.341747Z",
     "iopub.status.idle": "2021-06-25T14:43:05.621224Z",
     "shell.execute_reply": "2021-06-25T14:43:05.620291Z",
     "shell.execute_reply.started": "2021-06-23T07:06:40.038419Z"
    },
    "papermill": {
     "duration": 47.297541,
     "end_time": "2021-06-25T14:43:05.621522",
     "exception": false,
     "start_time": "2021-06-25T14:42:18.323981",
     "status": "completed"
    },
    "tags": []
   },
   "outputs": [],
   "source": [
    "files=['../input/jigsaw-unintended-bias-in-toxicity-classification/test.csv',\n",
    "       '../input/jigsaw-unintended-bias-in-toxicity-classification/train.csv',\n",
    "       '../input/jigsaw-unintended-bias-in-toxicity-classification/all_data.csv',\n",
    "       '../input/jigsaw-unintended-bias-in-toxicity-classification/sample_submission.csv'\n",
    "      ]\n",
    "\n",
    "def load_data(file):\n",
    "    return pd.read_csv(file)\n",
    "with multiprocessing.Pool() as pool:\n",
    "    test,train,all_data,sub=pool.map(load_data,files)"
   ]
  },
  {
   "cell_type": "markdown",
   "id": "rental-apache",
   "metadata": {
    "papermill": {
     "duration": 0.011622,
     "end_time": "2021-06-25T14:43:05.648046",
     "exception": false,
     "start_time": "2021-06-25T14:43:05.636424",
     "status": "completed"
    },
    "tags": []
   },
   "source": [
    "# Preprocessing"
   ]
  },
  {
   "cell_type": "code",
   "execution_count": 3,
   "id": "rocky-woman",
   "metadata": {
    "execution": {
     "iopub.execute_input": "2021-06-25T14:43:05.688625Z",
     "iopub.status.busy": "2021-06-25T14:43:05.688020Z",
     "iopub.status.idle": "2021-06-25T14:43:05.736140Z",
     "shell.execute_reply": "2021-06-25T14:43:05.735085Z",
     "shell.execute_reply.started": "2021-06-23T07:15:49.419473Z"
    },
    "papermill": {
     "duration": 0.076437,
     "end_time": "2021-06-25T14:43:05.736270",
     "exception": false,
     "start_time": "2021-06-25T14:43:05.659833",
     "status": "completed"
    },
    "tags": []
   },
   "outputs": [],
   "source": [
    "train['target']=np.where(train['target']>0.5,1.0,0.0)"
   ]
  },
  {
   "cell_type": "code",
   "execution_count": 4,
   "id": "southeast-connection",
   "metadata": {
    "execution": {
     "iopub.execute_input": "2021-06-25T14:43:05.764276Z",
     "iopub.status.busy": "2021-06-25T14:43:05.763383Z",
     "iopub.status.idle": "2021-06-25T14:43:05.766091Z",
     "shell.execute_reply": "2021-06-25T14:43:05.765694Z",
     "shell.execute_reply.started": "2021-06-23T07:16:30.509842Z"
    },
    "papermill": {
     "duration": 0.018279,
     "end_time": "2021-06-25T14:43:05.766199",
     "exception": false,
     "start_time": "2021-06-25T14:43:05.747920",
     "status": "completed"
    },
    "tags": []
   },
   "outputs": [],
   "source": [
    "\n",
    "X = train.comment_text\n",
    "Y = train.target\n",
    "\n",
    "# le = LabelEncoder()\n",
    "# Y = le.fit_transform(Y)\n",
    "# Y = Y.reshape(-1,1)"
   ]
  },
  {
   "cell_type": "code",
   "execution_count": 5,
   "id": "interior-emperor",
   "metadata": {
    "execution": {
     "iopub.execute_input": "2021-06-25T14:43:05.793993Z",
     "iopub.status.busy": "2021-06-25T14:43:05.793106Z",
     "iopub.status.idle": "2021-06-25T14:43:06.452308Z",
     "shell.execute_reply": "2021-06-25T14:43:06.451063Z",
     "shell.execute_reply.started": "2021-06-23T07:16:44.006587Z"
    },
    "papermill": {
     "duration": 0.674754,
     "end_time": "2021-06-25T14:43:06.452457",
     "exception": false,
     "start_time": "2021-06-25T14:43:05.777703",
     "status": "completed"
    },
    "tags": []
   },
   "outputs": [],
   "source": [
    "X_train,X_test,Y_train,Y_test = train_test_split(X,Y,test_size=0.15)"
   ]
  },
  {
   "cell_type": "code",
   "execution_count": 6,
   "id": "favorite-nirvana",
   "metadata": {
    "execution": {
     "iopub.execute_input": "2021-06-25T14:43:06.524570Z",
     "iopub.status.busy": "2021-06-25T14:43:06.514114Z",
     "iopub.status.idle": "2021-06-25T14:45:54.495506Z",
     "shell.execute_reply": "2021-06-25T14:45:54.494926Z",
     "shell.execute_reply.started": "2021-06-23T07:16:58.375391Z"
    },
    "papermill": {
     "duration": 168.031087,
     "end_time": "2021-06-25T14:45:54.495667",
     "exception": false,
     "start_time": "2021-06-25T14:43:06.464580",
     "status": "completed"
    },
    "tags": []
   },
   "outputs": [],
   "source": [
    "max_words = 1000\n",
    "max_len = 150\n",
    "tok = Tokenizer(num_words=max_words)\n",
    "tok.fit_on_texts(X_train)\n",
    "sequences = tok.texts_to_sequences(X_train)\n",
    "sequences_matrix = sequence.pad_sequences(sequences,maxlen=max_len)"
   ]
  },
  {
   "cell_type": "markdown",
   "id": "expected-vatican",
   "metadata": {
    "papermill": {
     "duration": 0.01139,
     "end_time": "2021-06-25T14:45:54.519173",
     "exception": false,
     "start_time": "2021-06-25T14:45:54.507783",
     "status": "completed"
    },
    "tags": []
   },
   "source": [
    "# RNN Architecture"
   ]
  },
  {
   "cell_type": "code",
   "execution_count": 7,
   "id": "according-hughes",
   "metadata": {
    "execution": {
     "iopub.execute_input": "2021-06-25T14:45:54.548437Z",
     "iopub.status.busy": "2021-06-25T14:45:54.547853Z",
     "iopub.status.idle": "2021-06-25T14:45:54.549547Z",
     "shell.execute_reply": "2021-06-25T14:45:54.549953Z",
     "shell.execute_reply.started": "2021-06-23T07:21:16.919337Z"
    },
    "papermill": {
     "duration": 0.019462,
     "end_time": "2021-06-25T14:45:54.550078",
     "exception": false,
     "start_time": "2021-06-25T14:45:54.530616",
     "status": "completed"
    },
    "tags": []
   },
   "outputs": [],
   "source": [
    "def RNN():\n",
    "    inputs = Input(name='inputs',shape=[max_len])\n",
    "    layer = Embedding(max_words,50,input_length=max_len)(inputs)\n",
    "    layer = LSTM(64)(layer)\n",
    "    layer = Dense(256,name='FC1')(layer)\n",
    "    layer = Activation('relu')(layer)\n",
    "    layer = Dropout(0.5)(layer)\n",
    "    layer = Dense(1,name='out_layer')(layer)\n",
    "    layer = Activation('sigmoid')(layer)\n",
    "    model = Model(inputs=inputs,outputs=layer)\n",
    "    return model"
   ]
  },
  {
   "cell_type": "code",
   "execution_count": 8,
   "id": "superior-fortune",
   "metadata": {
    "execution": {
     "iopub.execute_input": "2021-06-25T14:45:54.576186Z",
     "iopub.status.busy": "2021-06-25T14:45:54.575694Z",
     "iopub.status.idle": "2021-06-25T14:45:55.033530Z",
     "shell.execute_reply": "2021-06-25T14:45:55.032752Z",
     "shell.execute_reply.started": "2021-06-23T07:21:26.580419Z"
    },
    "papermill": {
     "duration": 0.471928,
     "end_time": "2021-06-25T14:45:55.033682",
     "exception": false,
     "start_time": "2021-06-25T14:45:54.561754",
     "status": "completed"
    },
    "tags": []
   },
   "outputs": [
    {
     "name": "stdout",
     "output_type": "stream",
     "text": [
      "Model: \"model\"\n",
      "_________________________________________________________________\n",
      "Layer (type)                 Output Shape              Param #   \n",
      "=================================================================\n",
      "inputs (InputLayer)          [(None, 150)]             0         \n",
      "_________________________________________________________________\n",
      "embedding (Embedding)        (None, 150, 50)           50000     \n",
      "_________________________________________________________________\n",
      "lstm (LSTM)                  (None, 64)                29440     \n",
      "_________________________________________________________________\n",
      "FC1 (Dense)                  (None, 256)               16640     \n",
      "_________________________________________________________________\n",
      "activation (Activation)      (None, 256)               0         \n",
      "_________________________________________________________________\n",
      "dropout (Dropout)            (None, 256)               0         \n",
      "_________________________________________________________________\n",
      "out_layer (Dense)            (None, 1)                 257       \n",
      "_________________________________________________________________\n",
      "activation_1 (Activation)    (None, 1)                 0         \n",
      "=================================================================\n",
      "Total params: 96,337\n",
      "Trainable params: 96,337\n",
      "Non-trainable params: 0\n",
      "_________________________________________________________________\n"
     ]
    }
   ],
   "source": [
    "model = RNN()\n",
    "model.summary()\n",
    "model.compile(loss='binary_crossentropy',optimizer=RMSprop(),metrics=['accuracy'])"
   ]
  },
  {
   "cell_type": "code",
   "execution_count": 9,
   "id": "retained-mambo",
   "metadata": {
    "execution": {
     "iopub.execute_input": "2021-06-25T14:45:55.066305Z",
     "iopub.status.busy": "2021-06-25T14:45:55.065657Z",
     "iopub.status.idle": "2021-06-25T15:45:21.991958Z",
     "shell.execute_reply": "2021-06-25T15:45:21.991081Z",
     "shell.execute_reply.started": "2021-06-23T07:21:38.562801Z"
    },
    "papermill": {
     "duration": 3566.94551,
     "end_time": "2021-06-25T15:45:21.992209",
     "exception": false,
     "start_time": "2021-06-25T14:45:55.046699",
     "status": "completed"
    },
    "tags": []
   },
   "outputs": [
    {
     "name": "stdout",
     "output_type": "stream",
     "text": [
      "Epoch 1/2\n",
      "9589/9589 [==============================] - 1657s 173ms/step - loss: 0.2020 - accuracy: 0.9434 - val_loss: 0.1853 - val_accuracy: 0.9462\n",
      "Epoch 2/2\n",
      "9589/9589 [==============================] - 1903s 198ms/step - loss: 0.1874 - accuracy: 0.9456 - val_loss: 0.1847 - val_accuracy: 0.9464\n"
     ]
    },
    {
     "data": {
      "text/plain": [
       "<tensorflow.python.keras.callbacks.History at 0x7f29dc2bd210>"
      ]
     },
     "execution_count": 9,
     "metadata": {},
     "output_type": "execute_result"
    }
   ],
   "source": [
    "model.fit(sequences_matrix,Y_train,batch_size=128,epochs=2,\n",
    "          validation_split=0.2,callbacks=[EarlyStopping(monitor='val_loss',min_delta=0.0001)])"
   ]
  },
  {
   "cell_type": "markdown",
   "id": "postal-notebook",
   "metadata": {
    "papermill": {
     "duration": 5.964821,
     "end_time": "2021-06-25T15:45:33.928200",
     "exception": false,
     "start_time": "2021-06-25T15:45:27.963379",
     "status": "completed"
    },
    "tags": []
   },
   "source": [
    "# Generating Prediction"
   ]
  },
  {
   "cell_type": "code",
   "execution_count": 10,
   "id": "found-movement",
   "metadata": {
    "execution": {
     "iopub.execute_input": "2021-06-25T15:45:45.864985Z",
     "iopub.status.busy": "2021-06-25T15:45:45.838884Z",
     "iopub.status.idle": "2021-06-25T15:46:02.003007Z",
     "shell.execute_reply": "2021-06-25T15:46:02.002394Z",
     "shell.execute_reply.started": "2021-06-23T08:30:19.447891Z"
    },
    "papermill": {
     "duration": 22.241458,
     "end_time": "2021-06-25T15:46:02.003183",
     "exception": false,
     "start_time": "2021-06-25T15:45:39.761725",
     "status": "completed"
    },
    "tags": []
   },
   "outputs": [],
   "source": [
    "tt=test.comment_text\n",
    "\n",
    "tok.fit_on_texts(tt)\n",
    "test_sequences = tok.texts_to_sequences(tt)\n",
    "test_sequences_matrix = sequence.pad_sequences(test_sequences,maxlen=max_len)"
   ]
  },
  {
   "cell_type": "code",
   "execution_count": 11,
   "id": "coordinated-cargo",
   "metadata": {
    "execution": {
     "iopub.execute_input": "2021-06-25T15:46:14.010965Z",
     "iopub.status.busy": "2021-06-25T15:46:13.990220Z",
     "iopub.status.idle": "2021-06-25T15:47:42.512446Z",
     "shell.execute_reply": "2021-06-25T15:47:42.511668Z",
     "shell.execute_reply.started": "2021-06-23T09:25:23.0344Z"
    },
    "papermill": {
     "duration": 94.533729,
     "end_time": "2021-06-25T15:47:42.512654",
     "exception": false,
     "start_time": "2021-06-25T15:46:07.978925",
     "status": "completed"
    },
    "tags": []
   },
   "outputs": [],
   "source": [
    "\n",
    "txts = tok.texts_to_sequences(tt)\n",
    "txts = sequence.pad_sequences(txts, maxlen=max_len)\n",
    "preds = model.predict(txts)"
   ]
  },
  {
   "cell_type": "code",
   "execution_count": 12,
   "id": "miniature-certificate",
   "metadata": {
    "execution": {
     "iopub.execute_input": "2021-06-25T15:47:54.496694Z",
     "iopub.status.busy": "2021-06-25T15:47:54.495898Z",
     "iopub.status.idle": "2021-06-25T15:47:54.499029Z",
     "shell.execute_reply": "2021-06-25T15:47:54.498490Z",
     "shell.execute_reply.started": "2021-06-23T09:33:16.087826Z"
    },
    "papermill": {
     "duration": 6.026085,
     "end_time": "2021-06-25T15:47:54.499195",
     "exception": false,
     "start_time": "2021-06-25T15:47:48.473110",
     "status": "completed"
    },
    "tags": []
   },
   "outputs": [],
   "source": [
    "sub['prediction']=preds"
   ]
  },
  {
   "cell_type": "code",
   "execution_count": 13,
   "id": "stable-viewer",
   "metadata": {
    "execution": {
     "iopub.execute_input": "2021-06-25T15:48:06.452491Z",
     "iopub.status.busy": "2021-06-25T15:48:06.451822Z",
     "iopub.status.idle": "2021-06-25T15:48:06.784561Z",
     "shell.execute_reply": "2021-06-25T15:48:06.783975Z",
     "shell.execute_reply.started": "2021-06-23T09:34:01.209311Z"
    },
    "papermill": {
     "duration": 6.205512,
     "end_time": "2021-06-25T15:48:06.784771",
     "exception": false,
     "start_time": "2021-06-25T15:48:00.579259",
     "status": "completed"
    },
    "tags": []
   },
   "outputs": [],
   "source": [
    "sub.to_csv('submission.csv',index=False)"
   ]
  },
  {
   "cell_type": "code",
   "execution_count": null,
   "id": "acquired-david",
   "metadata": {
    "papermill": {
     "duration": 6.018175,
     "end_time": "2021-06-25T15:48:18.775104",
     "exception": false,
     "start_time": "2021-06-25T15:48:12.756929",
     "status": "completed"
    },
    "tags": []
   },
   "outputs": [],
   "source": []
  }
 ],
 "metadata": {
  "kernelspec": {
   "display_name": "Python 3",
   "language": "python",
   "name": "python3"
  },
  "language_info": {
   "codemirror_mode": {
    "name": "ipython",
    "version": 3
   },
   "file_extension": ".py",
   "mimetype": "text/x-python",
   "name": "python",
   "nbconvert_exporter": "python",
   "pygments_lexer": "ipython3",
   "version": "3.7.10"
  },
  "papermill": {
   "default_parameters": {},
   "duration": 3983.187295,
   "end_time": "2021-06-25T15:48:28.435106",
   "environment_variables": {},
   "exception": null,
   "input_path": "__notebook__.ipynb",
   "output_path": "__notebook__.ipynb",
   "parameters": {},
   "start_time": "2021-06-25T14:42:05.247811",
   "version": "2.3.3"
  }
 },
 "nbformat": 4,
 "nbformat_minor": 5
}
