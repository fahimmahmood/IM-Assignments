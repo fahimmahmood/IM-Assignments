{
 "cells": [
  {
   "cell_type": "code",
   "execution_count": 1,
   "id": "armed-granny",
   "metadata": {
    "execution": {
     "iopub.execute_input": "2021-06-25T16:17:02.543360Z",
     "iopub.status.busy": "2021-06-25T16:17:02.542515Z",
     "iopub.status.idle": "2021-06-25T16:17:02.546323Z",
     "shell.execute_reply": "2021-06-25T16:17:02.545611Z",
     "shell.execute_reply.started": "2021-06-25T15:56:54.929275Z"
    },
    "papermill": {
     "duration": 0.022735,
     "end_time": "2021-06-25T16:17:02.546488",
     "exception": false,
     "start_time": "2021-06-25T16:17:02.523753",
     "status": "completed"
    },
    "tags": []
   },
   "outputs": [],
   "source": [
    "import multiprocessing\n",
    "import pandas as pd"
   ]
  },
  {
   "cell_type": "code",
   "execution_count": 2,
   "id": "passive-memory",
   "metadata": {
    "execution": {
     "iopub.execute_input": "2021-06-25T16:17:02.560544Z",
     "iopub.status.busy": "2021-06-25T16:17:02.559941Z",
     "iopub.status.idle": "2021-06-25T16:17:02.657829Z",
     "shell.execute_reply": "2021-06-25T16:17:02.657265Z",
     "shell.execute_reply.started": "2021-06-25T15:56:54.940668Z"
    },
    "papermill": {
     "duration": 0.106797,
     "end_time": "2021-06-25T16:17:02.657981",
     "exception": false,
     "start_time": "2021-06-25T16:17:02.551184",
     "status": "completed"
    },
    "tags": []
   },
   "outputs": [],
   "source": [
    "res=pd.read_csv('../input/fromcolab/colab_res.csv')"
   ]
  },
  {
   "cell_type": "code",
   "execution_count": 3,
   "id": "suffering-authorization",
   "metadata": {
    "execution": {
     "iopub.execute_input": "2021-06-25T16:17:02.671915Z",
     "iopub.status.busy": "2021-06-25T16:17:02.671249Z",
     "iopub.status.idle": "2021-06-25T16:17:03.021276Z",
     "shell.execute_reply": "2021-06-25T16:17:03.020681Z",
     "shell.execute_reply.started": "2021-06-25T08:16:36.225518Z"
    },
    "papermill": {
     "duration": 0.359028,
     "end_time": "2021-06-25T16:17:03.021429",
     "exception": false,
     "start_time": "2021-06-25T16:17:02.662401",
     "status": "completed"
    },
    "tags": []
   },
   "outputs": [],
   "source": [
    "res.to_csv('submission.csv',index=False)"
   ]
  },
  {
   "cell_type": "code",
   "execution_count": null,
   "id": "hispanic-degree",
   "metadata": {
    "papermill": {
     "duration": 0.003938,
     "end_time": "2021-06-25T16:17:03.029765",
     "exception": false,
     "start_time": "2021-06-25T16:17:03.025827",
     "status": "completed"
    },
    "tags": []
   },
   "outputs": [],
   "source": []
  }
 ],
 "metadata": {
  "kernelspec": {
   "display_name": "Python 3",
   "language": "python",
   "name": "python3"
  },
  "language_info": {
   "codemirror_mode": {
    "name": "ipython",
    "version": 3
   },
   "file_extension": ".py",
   "mimetype": "text/x-python",
   "name": "python",
   "nbconvert_exporter": "python",
   "pygments_lexer": "ipython3",
   "version": "3.7.10"
  },
  "papermill": {
   "default_parameters": {},
   "duration": 9.527652,
   "end_time": "2021-06-25T16:17:03.643106",
   "environment_variables": {},
   "exception": null,
   "input_path": "__notebook__.ipynb",
   "output_path": "__notebook__.ipynb",
   "parameters": {},
   "start_time": "2021-06-25T16:16:54.115454",
   "version": "2.3.3"
  }
 },
 "nbformat": 4,
 "nbformat_minor": 5
}
