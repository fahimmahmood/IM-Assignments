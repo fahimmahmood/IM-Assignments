{
 "cells": [
  {
   "cell_type": "code",
   "execution_count": 1,
   "id": "frequent-robert",
   "metadata": {
    "_cell_guid": "b1076dfc-b9ad-4769-8c92-a6c4dae69d19",
    "_uuid": "8f2839f25d086af736a60e9eeb907d3b93b6e0e5",
    "execution": {
     "iopub.execute_input": "2021-06-25T13:09:12.515890Z",
     "iopub.status.busy": "2021-06-25T13:09:12.510316Z",
     "iopub.status.idle": "2021-06-25T13:09:14.415946Z",
     "shell.execute_reply": "2021-06-25T13:09:14.415019Z",
     "shell.execute_reply.started": "2021-06-25T11:17:16.542229Z"
    },
    "papermill": {
     "duration": 1.941643,
     "end_time": "2021-06-25T13:09:14.416133",
     "exception": false,
     "start_time": "2021-06-25T13:09:12.474490",
     "status": "completed"
    },
    "tags": []
   },
   "outputs": [],
   "source": [
    "import pandas as pd\n",
    "import numpy as np\n",
    "import multiprocessing\n",
    "import warnings\n",
    "warnings.simplefilter('ignore')\n",
    "import matplotlib.pyplot as plt\n",
    "import seaborn as sns\n",
    "%matplotlib inline\n",
    "\n",
    "import nltk\n",
    "import re\n",
    "import string\n",
    "\n",
    "from nltk.corpus import stopwords\n",
    "from nltk.stem.lancaster import LancasterStemmer\n",
    "\n",
    "from sklearn.feature_extraction.text import CountVectorizer\n",
    "from sklearn.feature_extraction.text import TfidfVectorizer\n"
   ]
  },
  {
   "cell_type": "code",
   "execution_count": 2,
   "id": "awful-henry",
   "metadata": {
    "execution": {
     "iopub.execute_input": "2021-06-25T13:09:14.474183Z",
     "iopub.status.busy": "2021-06-25T13:09:14.473383Z",
     "iopub.status.idle": "2021-06-25T13:09:14.500152Z",
     "shell.execute_reply": "2021-06-25T13:09:14.500660Z",
     "shell.execute_reply.started": "2021-06-25T11:17:52.416682Z"
    },
    "papermill": {
     "duration": 0.058397,
     "end_time": "2021-06-25T13:09:14.500829",
     "exception": false,
     "start_time": "2021-06-25T13:09:14.442432",
     "status": "completed"
    },
    "tags": []
   },
   "outputs": [
    {
     "data": {
      "text/plain": [
       "{'a',\n",
       " 'about',\n",
       " 'above',\n",
       " 'after',\n",
       " 'again',\n",
       " 'against',\n",
       " 'ain',\n",
       " 'all',\n",
       " 'am',\n",
       " 'an',\n",
       " 'and',\n",
       " 'any',\n",
       " 'are',\n",
       " 'aren',\n",
       " \"aren't\",\n",
       " 'as',\n",
       " 'at',\n",
       " 'be',\n",
       " 'because',\n",
       " 'been',\n",
       " 'before',\n",
       " 'being',\n",
       " 'below',\n",
       " 'between',\n",
       " 'both',\n",
       " 'but',\n",
       " 'by',\n",
       " 'can',\n",
       " 'couldn',\n",
       " \"couldn't\",\n",
       " 'd',\n",
       " 'did',\n",
       " 'didn',\n",
       " \"didn't\",\n",
       " 'do',\n",
       " 'does',\n",
       " 'doesn',\n",
       " \"doesn't\",\n",
       " 'doing',\n",
       " 'don',\n",
       " \"don't\",\n",
       " 'down',\n",
       " 'during',\n",
       " 'each',\n",
       " 'few',\n",
       " 'for',\n",
       " 'from',\n",
       " 'further',\n",
       " 'had',\n",
       " 'hadn',\n",
       " \"hadn't\",\n",
       " 'has',\n",
       " 'hasn',\n",
       " \"hasn't\",\n",
       " 'have',\n",
       " 'haven',\n",
       " \"haven't\",\n",
       " 'having',\n",
       " 'he',\n",
       " 'her',\n",
       " 'here',\n",
       " 'hers',\n",
       " 'herself',\n",
       " 'him',\n",
       " 'himself',\n",
       " 'his',\n",
       " 'how',\n",
       " 'i',\n",
       " 'if',\n",
       " 'in',\n",
       " 'into',\n",
       " 'is',\n",
       " 'isn',\n",
       " \"isn't\",\n",
       " 'it',\n",
       " \"it's\",\n",
       " 'its',\n",
       " 'itself',\n",
       " 'just',\n",
       " 'll',\n",
       " 'm',\n",
       " 'ma',\n",
       " 'me',\n",
       " 'mightn',\n",
       " \"mightn't\",\n",
       " 'more',\n",
       " 'most',\n",
       " 'mustn',\n",
       " \"mustn't\",\n",
       " 'my',\n",
       " 'myself',\n",
       " 'needn',\n",
       " \"needn't\",\n",
       " 'no',\n",
       " 'nor',\n",
       " 'not',\n",
       " 'now',\n",
       " 'o',\n",
       " 'of',\n",
       " 'off',\n",
       " 'on',\n",
       " 'once',\n",
       " 'only',\n",
       " 'or',\n",
       " 'other',\n",
       " 'our',\n",
       " 'ours',\n",
       " 'ourselves',\n",
       " 'out',\n",
       " 'over',\n",
       " 'own',\n",
       " 're',\n",
       " 's',\n",
       " 'same',\n",
       " 'shan',\n",
       " \"shan't\",\n",
       " 'she',\n",
       " \"she's\",\n",
       " 'should',\n",
       " \"should've\",\n",
       " 'shouldn',\n",
       " \"shouldn't\",\n",
       " 'so',\n",
       " 'some',\n",
       " 'such',\n",
       " 't',\n",
       " 'than',\n",
       " 'that',\n",
       " \"that'll\",\n",
       " 'the',\n",
       " 'their',\n",
       " 'theirs',\n",
       " 'them',\n",
       " 'themselves',\n",
       " 'then',\n",
       " 'there',\n",
       " 'these',\n",
       " 'they',\n",
       " 'this',\n",
       " 'those',\n",
       " 'through',\n",
       " 'to',\n",
       " 'too',\n",
       " 'under',\n",
       " 'until',\n",
       " 'up',\n",
       " 've',\n",
       " 'very',\n",
       " 'was',\n",
       " 'wasn',\n",
       " \"wasn't\",\n",
       " 'we',\n",
       " 'were',\n",
       " 'weren',\n",
       " \"weren't\",\n",
       " 'what',\n",
       " 'when',\n",
       " 'where',\n",
       " 'which',\n",
       " 'while',\n",
       " 'who',\n",
       " 'whom',\n",
       " 'why',\n",
       " 'will',\n",
       " 'with',\n",
       " 'won',\n",
       " \"won't\",\n",
       " 'wouldn',\n",
       " \"wouldn't\",\n",
       " 'y',\n",
       " 'you',\n",
       " \"you'd\",\n",
       " \"you'll\",\n",
       " \"you're\",\n",
       " \"you've\",\n",
       " 'your',\n",
       " 'yours',\n",
       " 'yourself',\n",
       " 'yourselves'}"
      ]
     },
     "execution_count": 2,
     "metadata": {},
     "output_type": "execute_result"
    }
   ],
   "source": [
    "set(stopwords.words('english'))"
   ]
  },
  {
   "cell_type": "code",
   "execution_count": 3,
   "id": "fatty-finish",
   "metadata": {
    "execution": {
     "iopub.execute_input": "2021-06-25T13:09:14.559132Z",
     "iopub.status.busy": "2021-06-25T13:09:14.558280Z",
     "iopub.status.idle": "2021-06-25T13:09:55.418663Z",
     "shell.execute_reply": "2021-06-25T13:09:55.417199Z",
     "shell.execute_reply.started": "2021-06-25T11:17:57.008594Z"
    },
    "papermill": {
     "duration": 40.891308,
     "end_time": "2021-06-25T13:09:55.418892",
     "exception": false,
     "start_time": "2021-06-25T13:09:14.527584",
     "status": "completed"
    },
    "tags": []
   },
   "outputs": [],
   "source": [
    "files=['../input/jigsaw-unintended-bias-in-toxicity-classification/test.csv',\n",
    "       '../input/jigsaw-unintended-bias-in-toxicity-classification/train.csv',\n",
    "       '../input/jigsaw-unintended-bias-in-toxicity-classification/all_data.csv',\n",
    "       '../input/jigsaw-unintended-bias-in-toxicity-classification/sample_submission.csv'\n",
    "      ]\n",
    "\n",
    "def load_data(file):\n",
    "    return pd.read_csv(file)\n",
    "with multiprocessing.Pool() as pool:\n",
    "    test,train,all_data,sub=pool.map(load_data,files)"
   ]
  },
  {
   "cell_type": "code",
   "execution_count": 4,
   "id": "disabled-somewhere",
   "metadata": {
    "execution": {
     "iopub.execute_input": "2021-06-25T13:09:55.504120Z",
     "iopub.status.busy": "2021-06-25T13:09:55.503418Z",
     "iopub.status.idle": "2021-06-25T13:09:55.647549Z",
     "shell.execute_reply": "2021-06-25T13:09:55.648226Z",
     "shell.execute_reply.started": "2021-06-25T11:19:00.177982Z"
    },
    "papermill": {
     "duration": 0.203136,
     "end_time": "2021-06-25T13:09:55.648424",
     "exception": false,
     "start_time": "2021-06-25T13:09:55.445288",
     "status": "completed"
    },
    "tags": []
   },
   "outputs": [
    {
     "name": "stdout",
     "output_type": "stream",
     "text": [
      "<class 'pandas.core.frame.DataFrame'>\n",
      "RangeIndex: 1804874 entries, 0 to 1804873\n",
      "Data columns (total 45 columns):\n",
      " #   Column                               Dtype  \n",
      "---  ------                               -----  \n",
      " 0   id                                   int64  \n",
      " 1   target                               float64\n",
      " 2   comment_text                         object \n",
      " 3   severe_toxicity                      float64\n",
      " 4   obscene                              float64\n",
      " 5   identity_attack                      float64\n",
      " 6   insult                               float64\n",
      " 7   threat                               float64\n",
      " 8   asian                                float64\n",
      " 9   atheist                              float64\n",
      " 10  bisexual                             float64\n",
      " 11  black                                float64\n",
      " 12  buddhist                             float64\n",
      " 13  christian                            float64\n",
      " 14  female                               float64\n",
      " 15  heterosexual                         float64\n",
      " 16  hindu                                float64\n",
      " 17  homosexual_gay_or_lesbian            float64\n",
      " 18  intellectual_or_learning_disability  float64\n",
      " 19  jewish                               float64\n",
      " 20  latino                               float64\n",
      " 21  male                                 float64\n",
      " 22  muslim                               float64\n",
      " 23  other_disability                     float64\n",
      " 24  other_gender                         float64\n",
      " 25  other_race_or_ethnicity              float64\n",
      " 26  other_religion                       float64\n",
      " 27  other_sexual_orientation             float64\n",
      " 28  physical_disability                  float64\n",
      " 29  psychiatric_or_mental_illness        float64\n",
      " 30  transgender                          float64\n",
      " 31  white                                float64\n",
      " 32  created_date                         object \n",
      " 33  publication_id                       int64  \n",
      " 34  parent_id                            float64\n",
      " 35  article_id                           int64  \n",
      " 36  rating                               object \n",
      " 37  funny                                int64  \n",
      " 38  wow                                  int64  \n",
      " 39  sad                                  int64  \n",
      " 40  likes                                int64  \n",
      " 41  disagree                             int64  \n",
      " 42  sexual_explicit                      float64\n",
      " 43  identity_annotator_count             int64  \n",
      " 44  toxicity_annotator_count             int64  \n",
      "dtypes: float64(32), int64(10), object(3)\n",
      "memory usage: 619.7+ MB\n"
     ]
    }
   ],
   "source": [
    "# for col in all_data.columns:\n",
    "#     print(\"{} -----------> {}\".format(col,all_data[col].dtypes))\n",
    "#     print(\"{} ===========> {}\".format(col,train[col].dtypes))\n",
    "train.info()"
   ]
  },
  {
   "cell_type": "code",
   "execution_count": 5,
   "id": "julian-montgomery",
   "metadata": {
    "execution": {
     "iopub.execute_input": "2021-06-25T13:09:55.705794Z",
     "iopub.status.busy": "2021-06-25T13:09:55.705148Z",
     "iopub.status.idle": "2021-06-25T13:09:55.749214Z",
     "shell.execute_reply": "2021-06-25T13:09:55.749748Z",
     "shell.execute_reply.started": "2021-06-25T11:19:00.629009Z"
    },
    "papermill": {
     "duration": 0.07391,
     "end_time": "2021-06-25T13:09:55.749925",
     "exception": false,
     "start_time": "2021-06-25T13:09:55.676015",
     "status": "completed"
    },
    "tags": []
   },
   "outputs": [
    {
     "data": {
      "text/plain": [
       "0.000000    1264764\n",
       "0.166667     138501\n",
       "0.200000     107492\n",
       "0.300000      59098\n",
       "0.400000      50013\n",
       "Name: target, dtype: int64"
      ]
     },
     "execution_count": 5,
     "metadata": {},
     "output_type": "execute_result"
    }
   ],
   "source": [
    "train.target.value_counts(dropna=True).head()"
   ]
  },
  {
   "cell_type": "code",
   "execution_count": 6,
   "id": "retained-dominant",
   "metadata": {
    "execution": {
     "iopub.execute_input": "2021-06-25T13:09:55.807465Z",
     "iopub.status.busy": "2021-06-25T13:09:55.806832Z",
     "iopub.status.idle": "2021-06-25T13:09:55.812443Z",
     "shell.execute_reply": "2021-06-25T13:09:55.811933Z",
     "shell.execute_reply.started": "2021-06-25T11:19:05.523376Z"
    },
    "papermill": {
     "duration": 0.034931,
     "end_time": "2021-06-25T13:09:55.812615",
     "exception": false,
     "start_time": "2021-06-25T13:09:55.777684",
     "status": "completed"
    },
    "tags": []
   },
   "outputs": [
    {
     "data": {
      "text/plain": [
       "(1804874, 45)"
      ]
     },
     "execution_count": 6,
     "metadata": {},
     "output_type": "execute_result"
    }
   ],
   "source": [
    "train.shape"
   ]
  },
  {
   "cell_type": "code",
   "execution_count": 7,
   "id": "simple-marriage",
   "metadata": {
    "execution": {
     "iopub.execute_input": "2021-06-25T13:09:55.874958Z",
     "iopub.status.busy": "2021-06-25T13:09:55.874181Z",
     "iopub.status.idle": "2021-06-25T13:09:55.882195Z",
     "shell.execute_reply": "2021-06-25T13:09:55.882710Z",
     "shell.execute_reply.started": "2021-06-25T11:19:08.386399Z"
    },
    "papermill": {
     "duration": 0.042287,
     "end_time": "2021-06-25T13:09:55.882885",
     "exception": false,
     "start_time": "2021-06-25T13:09:55.840598",
     "status": "completed"
    },
    "tags": []
   },
   "outputs": [
    {
     "data": {
      "text/plain": [
       "0"
      ]
     },
     "execution_count": 7,
     "metadata": {},
     "output_type": "execute_result"
    }
   ],
   "source": [
    "train['target'].isnull().sum()"
   ]
  },
  {
   "cell_type": "code",
   "execution_count": 8,
   "id": "threatened-abortion",
   "metadata": {
    "execution": {
     "iopub.execute_input": "2021-06-25T13:09:55.945116Z",
     "iopub.status.busy": "2021-06-25T13:09:55.944129Z",
     "iopub.status.idle": "2021-06-25T13:09:56.001101Z",
     "shell.execute_reply": "2021-06-25T13:09:56.000492Z",
     "shell.execute_reply.started": "2021-06-25T11:19:19.917427Z"
    },
    "papermill": {
     "duration": 0.090719,
     "end_time": "2021-06-25T13:09:56.001270",
     "exception": false,
     "start_time": "2021-06-25T13:09:55.910551",
     "status": "completed"
    },
    "tags": []
   },
   "outputs": [
    {
     "data": {
      "text/plain": [
       "array(['id', 'target', 'comment_text', 'severe_toxicity', 'obscene',\n",
       "       'identity_attack', 'insult', 'threat', 'asian', 'atheist',\n",
       "       'bisexual', 'black', 'buddhist', 'christian', 'female',\n",
       "       'heterosexual', 'hindu', 'homosexual_gay_or_lesbian',\n",
       "       'intellectual_or_learning_disability', 'jewish', 'latino', 'male',\n",
       "       'muslim', 'other_disability', 'other_gender',\n",
       "       'other_race_or_ethnicity', 'other_religion',\n",
       "       'other_sexual_orientation', 'physical_disability',\n",
       "       'psychiatric_or_mental_illness', 'transgender', 'white',\n",
       "       'created_date', 'publication_id', 'parent_id', 'article_id',\n",
       "       'rating', 'funny', 'wow', 'sad', 'likes', 'disagree',\n",
       "       'sexual_explicit', 'identity_annotator_count',\n",
       "       'toxicity_annotator_count'], dtype=object)"
      ]
     },
     "execution_count": 8,
     "metadata": {},
     "output_type": "execute_result"
    }
   ],
   "source": [
    "X=train[['comment_text','target']]\n",
    "train.columns.values"
   ]
  },
  {
   "cell_type": "code",
   "execution_count": 9,
   "id": "remarkable-arbitration",
   "metadata": {
    "execution": {
     "iopub.execute_input": "2021-06-25T13:09:56.173919Z",
     "iopub.status.busy": "2021-06-25T13:09:56.172883Z",
     "iopub.status.idle": "2021-06-25T13:09:56.175471Z",
     "shell.execute_reply": "2021-06-25T13:09:56.175936Z",
     "shell.execute_reply.started": "2021-06-25T11:19:35.774197Z"
    },
    "papermill": {
     "duration": 0.146527,
     "end_time": "2021-06-25T13:09:56.176125",
     "exception": false,
     "start_time": "2021-06-25T13:09:56.029598",
     "status": "completed"
    },
    "tags": []
   },
   "outputs": [],
   "source": [
    "del train"
   ]
  },
  {
   "cell_type": "code",
   "execution_count": 10,
   "id": "hundred-signal",
   "metadata": {
    "execution": {
     "iopub.execute_input": "2021-06-25T13:09:56.305059Z",
     "iopub.status.busy": "2021-06-25T13:09:56.268562Z",
     "iopub.status.idle": "2021-06-25T13:10:12.759722Z",
     "shell.execute_reply": "2021-06-25T13:10:12.759000Z",
     "shell.execute_reply.started": "2021-06-25T11:19:39.501532Z"
    },
    "papermill": {
     "duration": 16.55201,
     "end_time": "2021-06-25T13:10:12.759867",
     "exception": false,
     "start_time": "2021-06-25T13:09:56.207857",
     "status": "completed"
    },
    "tags": []
   },
   "outputs": [],
   "source": [
    "tox=0\n",
    "neut=0\n",
    "no_of_rows=X.shape[0]\n",
    "for row in range(no_of_rows):\n",
    "    if X['target'][row]>0.7:\n",
    "        tox+=1\n",
    "    else:\n",
    "        neut+=1"
   ]
  },
  {
   "cell_type": "code",
   "execution_count": 11,
   "id": "friendly-cursor",
   "metadata": {
    "execution": {
     "iopub.execute_input": "2021-06-25T13:10:12.822383Z",
     "iopub.status.busy": "2021-06-25T13:10:12.821736Z",
     "iopub.status.idle": "2021-06-25T13:10:12.825752Z",
     "shell.execute_reply": "2021-06-25T13:10:12.825215Z",
     "shell.execute_reply.started": "2021-06-25T11:19:58.620184Z"
    },
    "papermill": {
     "duration": 0.037733,
     "end_time": "2021-06-25T13:10:12.825900",
     "exception": false,
     "start_time": "2021-06-25T13:10:12.788167",
     "status": "completed"
    },
    "tags": []
   },
   "outputs": [
    {
     "name": "stdout",
     "output_type": "stream",
     "text": [
      "2.518% data contains toxic comments\n",
      "97.482% data contains neutral comments\n"
     ]
    }
   ],
   "source": [
    "print(f'{round((tox*100)/no_of_rows,3)}% data contains toxic comments')\n",
    "print(f'{round((neut*100/no_of_rows),3)}% data contains neutral comments')"
   ]
  },
  {
   "cell_type": "markdown",
   "id": "resistant-agent",
   "metadata": {
    "papermill": {
     "duration": 0.027953,
     "end_time": "2021-06-25T13:10:12.882260",
     "exception": false,
     "start_time": "2021-06-25T13:10:12.854307",
     "status": "completed"
    },
    "tags": []
   },
   "source": [
    "# **Preprocessing comment_text for training**"
   ]
  },
  {
   "cell_type": "code",
   "execution_count": 12,
   "id": "framed-vietnam",
   "metadata": {
    "execution": {
     "iopub.execute_input": "2021-06-25T13:10:12.948962Z",
     "iopub.status.busy": "2021-06-25T13:10:12.948229Z",
     "iopub.status.idle": "2021-06-25T13:12:46.211173Z",
     "shell.execute_reply": "2021-06-25T13:12:46.212037Z",
     "shell.execute_reply.started": "2021-06-25T11:20:02.31835Z"
    },
    "papermill": {
     "duration": 153.300526,
     "end_time": "2021-06-25T13:12:46.212236",
     "exception": false,
     "start_time": "2021-06-25T13:10:12.911710",
     "status": "completed"
    },
    "tags": []
   },
   "outputs": [],
   "source": [
    "# remove all numbers with letters attached to them\n",
    "alphanumeric = lambda x: re.sub('\\w*\\d\\w*', ' ', x)\n",
    "\n",
    "# '[%s]' % re.escape(string.punctuation),' ' - replace punctuation with white space\n",
    "# .lower() - convert all strings to lowercase \n",
    "punc_lower = lambda x: re.sub('[%s]' % re.escape(string.punctuation), ' ', x.lower())\n",
    "\n",
    "# Remove all '\\n' in the string and replace it with a space\n",
    "remove_n = lambda x: re.sub(\"\\n\", \" \", x)\n",
    "\n",
    "# Remove all non-ascii characters \n",
    "remove_non_ascii = lambda x: re.sub(r'[^\\x00-\\x7f]',r' ', x)\n",
    "\n",
    "# Apply all the lambda functions wrote previously through .map on the comments column\n",
    "X['comment_text'] = X['comment_text'].map(alphanumeric).map(punc_lower).map(remove_n).map(remove_non_ascii)"
   ]
  },
  {
   "cell_type": "code",
   "execution_count": 13,
   "id": "seven-organization",
   "metadata": {
    "execution": {
     "iopub.execute_input": "2021-06-25T13:12:46.289225Z",
     "iopub.status.busy": "2021-06-25T13:12:46.288564Z",
     "iopub.status.idle": "2021-06-25T13:12:46.335456Z",
     "shell.execute_reply": "2021-06-25T13:12:46.334784Z",
     "shell.execute_reply.started": "2021-06-25T11:23:14.0832Z"
    },
    "papermill": {
     "duration": 0.094343,
     "end_time": "2021-06-25T13:12:46.335625",
     "exception": false,
     "start_time": "2021-06-25T13:12:46.241282",
     "status": "completed"
    },
    "tags": []
   },
   "outputs": [],
   "source": [
    "import wordcloud\n",
    "from PIL import Image\n",
    "from wordcloud import WordCloud, STOPWORDS, ImageColorGenerator\n",
    "\n",
    "def wordcloud(df, label):\n",
    "    \n",
    "    \n",
    "    subset=df[df[label]>0.7]\n",
    "    text=subset.comment_text.values\n",
    "    wc= WordCloud(background_color=\"white\",max_words=4000)\n",
    "\n",
    "    wc.generate(\" \".join(text))\n",
    "\n",
    "    plt.figure(figsize=(20,20))\n",
    "    plt.subplot(221)\n",
    "    plt.axis(\"off\")\n",
    "    plt.title(\"Words frequented in {}\".format(label), fontsize=20)\n",
    "    plt.imshow(wc.recolor(colormap= 'gist_earth' , random_state=244), alpha=0.98)"
   ]
  },
  {
   "cell_type": "code",
   "execution_count": 14,
   "id": "following-victoria",
   "metadata": {
    "execution": {
     "iopub.execute_input": "2021-06-25T13:12:46.395484Z",
     "iopub.status.busy": "2021-06-25T13:12:46.394831Z",
     "iopub.status.idle": "2021-06-25T13:12:54.165949Z",
     "shell.execute_reply": "2021-06-25T13:12:54.166428Z",
     "shell.execute_reply.started": "2021-06-25T11:23:14.56602Z"
    },
    "papermill": {
     "duration": 7.802352,
     "end_time": "2021-06-25T13:12:54.166630",
     "exception": false,
     "start_time": "2021-06-25T13:12:46.364278",
     "status": "completed"
    },
    "tags": []
   },
   "outputs": [
    {
     "data": {
      "image/png": "[encoded data removed]",
      "text/plain": [
       "<Figure size 1440x1440 with 1 Axes>"
      ]
     },
     "metadata": {
      "needs_background": "light"
     },
     "output_type": "display_data"
    }
   ],
   "source": [
    "wordcloud(X,'target')"
   ]
  },
  {
   "cell_type": "markdown",
   "id": "loose-pledge",
   "metadata": {
    "papermill": {
     "duration": 0.032746,
     "end_time": "2021-06-25T13:12:54.232727",
     "exception": false,
     "start_time": "2021-06-25T13:12:54.199981",
     "status": "completed"
    },
    "tags": []
   },
   "source": [
    "# Handling Class Imbalance"
   ]
  },
  {
   "cell_type": "code",
   "execution_count": 15,
   "id": "buried-turkey",
   "metadata": {
    "execution": {
     "iopub.execute_input": "2021-06-25T13:12:54.306325Z",
     "iopub.status.busy": "2021-06-25T13:12:54.305305Z",
     "iopub.status.idle": "2021-06-25T13:12:54.321543Z",
     "shell.execute_reply": "2021-06-25T13:12:54.322050Z",
     "shell.execute_reply.started": "2021-06-25T11:23:25.533906Z"
    },
    "papermill": {
     "duration": 0.05559,
     "end_time": "2021-06-25T13:12:54.322225",
     "exception": false,
     "start_time": "2021-06-25T13:12:54.266635",
     "status": "completed"
    },
    "tags": []
   },
   "outputs": [
    {
     "data": {
      "text/plain": [
       "(45451, 2)"
      ]
     },
     "execution_count": 15,
     "metadata": {},
     "output_type": "execute_result"
    }
   ],
   "source": [
    "toxic_train=X[X['target']>0.7].iloc[0:45451,:]\n",
    "toxic_train.shape"
   ]
  },
  {
   "cell_type": "code",
   "execution_count": 16,
   "id": "impossible-international",
   "metadata": {
    "execution": {
     "iopub.execute_input": "2021-06-25T13:12:54.393136Z",
     "iopub.status.busy": "2021-06-25T13:12:54.392115Z",
     "iopub.status.idle": "2021-06-25T13:12:54.513498Z",
     "shell.execute_reply": "2021-06-25T13:12:54.512528Z",
     "shell.execute_reply.started": "2021-06-25T11:23:25.935572Z"
    },
    "papermill": {
     "duration": 0.157688,
     "end_time": "2021-06-25T13:12:54.513676",
     "exception": false,
     "start_time": "2021-06-25T13:12:54.355988",
     "status": "completed"
    },
    "tags": []
   },
   "outputs": [
    {
     "data": {
      "text/plain": [
       "(150000, 2)"
      ]
     },
     "execution_count": 16,
     "metadata": {},
     "output_type": "execute_result"
    }
   ],
   "source": [
    "neutral_train=X[X['target']<=0.7].iloc[0:150000,:]\n",
    "neutral_train.shape"
   ]
  },
  {
   "cell_type": "code",
   "execution_count": 17,
   "id": "breeding-retreat",
   "metadata": {
    "execution": {
     "iopub.execute_input": "2021-06-25T13:12:54.587129Z",
     "iopub.status.busy": "2021-06-25T13:12:54.586497Z",
     "iopub.status.idle": "2021-06-25T13:12:54.598428Z",
     "shell.execute_reply": "2021-06-25T13:12:54.597804Z",
     "shell.execute_reply.started": "2021-06-25T11:23:32.15862Z"
    },
    "papermill": {
     "duration": 0.050269,
     "end_time": "2021-06-25T13:12:54.598584",
     "exception": false,
     "start_time": "2021-06-25T13:12:54.548315",
     "status": "completed"
    },
    "tags": []
   },
   "outputs": [
    {
     "data": {
      "text/plain": [
       "(195451, 2)"
      ]
     },
     "execution_count": 17,
     "metadata": {},
     "output_type": "execute_result"
    }
   ],
   "source": [
    "balanced_train=pd.concat([toxic_train,neutral_train],axis=0)\n",
    "balanced_train.shape\n",
    "\n",
    "# balanced_train=X"
   ]
  },
  {
   "cell_type": "code",
   "execution_count": 18,
   "id": "demographic-france",
   "metadata": {
    "execution": {
     "iopub.execute_input": "2021-06-25T13:12:54.699745Z",
     "iopub.status.busy": "2021-06-25T13:12:54.699091Z",
     "iopub.status.idle": "2021-06-25T13:12:54.702225Z",
     "shell.execute_reply": "2021-06-25T13:12:54.701685Z",
     "shell.execute_reply.started": "2021-06-25T11:23:45.579163Z"
    },
    "papermill": {
     "duration": 0.069653,
     "end_time": "2021-06-25T13:12:54.702364",
     "exception": false,
     "start_time": "2021-06-25T13:12:54.632711",
     "status": "completed"
    },
    "tags": []
   },
   "outputs": [],
   "source": [
    "del toxic_train, neutral_train"
   ]
  },
  {
   "cell_type": "code",
   "execution_count": 19,
   "id": "coordinate-frequency",
   "metadata": {
    "execution": {
     "iopub.execute_input": "2021-06-25T13:12:54.778123Z",
     "iopub.status.busy": "2021-06-25T13:12:54.777412Z",
     "iopub.status.idle": "2021-06-25T13:12:55.059022Z",
     "shell.execute_reply": "2021-06-25T13:12:55.058451Z",
     "shell.execute_reply.started": "2021-06-25T11:23:48.070925Z"
    },
    "papermill": {
     "duration": 0.321714,
     "end_time": "2021-06-25T13:12:55.059162",
     "exception": false,
     "start_time": "2021-06-25T13:12:54.737448",
     "status": "completed"
    },
    "tags": []
   },
   "outputs": [],
   "source": [
    "# Import packages for pre-processing\n",
    "from sklearn import preprocessing\n",
    "from sklearn.feature_selection import SelectFromModel\n",
    "\n",
    "# Import tools to split data and evaluate model performance\n",
    "from sklearn.model_selection import train_test_split, KFold, cross_val_score\n",
    "from sklearn.metrics import f1_score, precision_score, recall_score, precision_recall_curve, fbeta_score, confusion_matrix, accuracy_score\n",
    "from sklearn.metrics import roc_auc_score, roc_curve\n",
    "\n",
    "# Import ML algos\n",
    "from sklearn.linear_model import LogisticRegression\n",
    "from sklearn.neighbors import KNeighborsClassifier\n",
    "from sklearn.naive_bayes import MultinomialNB, BernoulliNB\n",
    "from sklearn.svm import LinearSVC\n",
    "from sklearn.ensemble import RandomForestClassifier\n",
    "from xgboost import XGBClassifier"
   ]
  },
  {
   "cell_type": "markdown",
   "id": "married-simple",
   "metadata": {
    "papermill": {
     "duration": 0.046587,
     "end_time": "2021-06-25T13:12:55.142559",
     "exception": false,
     "start_time": "2021-06-25T13:12:55.095972",
     "status": "completed"
    },
    "tags": []
   },
   "source": [
    "# Model F1 Score Comparison "
   ]
  },
  {
   "cell_type": "code",
   "execution_count": 20,
   "id": "frequent-immunology",
   "metadata": {
    "execution": {
     "iopub.execute_input": "2021-06-25T13:12:55.219051Z",
     "iopub.status.busy": "2021-06-25T13:12:55.218066Z",
     "iopub.status.idle": "2021-06-25T13:12:55.237587Z",
     "shell.execute_reply": "2021-06-25T13:12:55.238368Z",
     "shell.execute_reply.started": "2021-06-25T11:23:50.504262Z"
    },
    "papermill": {
     "duration": 0.06031,
     "end_time": "2021-06-25T13:12:55.238614",
     "exception": false,
     "start_time": "2021-06-25T13:12:55.178304",
     "status": "completed"
    },
    "tags": []
   },
   "outputs": [],
   "source": [
    "'''\n",
    "vectorizer values: CountVectorizer, TfidfVectorizer\n",
    "gram_range values: (1,1) for unigram, (2,2) for bigram\n",
    "'''\n",
    "def cv_tf_train_test(df_done,label,vectorizer,ngram):\n",
    "\n",
    "    ''' Train/Test split'''\n",
    "    # Split the data into X and y data sets\n",
    "    X = df_done.comment_text\n",
    "    y = df_done[label]\n",
    "\n",
    "    # Split our data into training and test data \n",
    "    X_train, X_test, y_train, y_test = train_test_split(X, y, test_size=0.3, random_state=42)\n",
    "\n",
    "    ''' Count Vectorizer/TF-IDF '''\n",
    "\n",
    "    # Create a Vectorizer object and remove stopwords from the table\n",
    "    cv1 = vectorizer(ngram_range=(ngram), stop_words='english')\n",
    "    \n",
    "    X_train_cv1 = cv1.fit_transform(X_train) # Learn the vocabulary dictionary and return term-document matrix\n",
    "    X_test_cv1  = cv1.transform(X_test)      # Learn a vocabulary dictionary of all tokens in the raw documents.\n",
    "    \n",
    "        \n",
    "    ''' Initialize all model objects and fit the models on the training data '''\n",
    "    lr = LogisticRegression()\n",
    "    lr.fit(X_train_cv1, y_train)\n",
    "    print('lr done')\n",
    "\n",
    "    knn = KNeighborsClassifier(n_neighbors=5)\n",
    "    knn.fit(X_train_cv1, y_train)\n",
    "\n",
    "\n",
    "    xgb=XGBClassifier()\n",
    "    xgb.fit(X_train_cv1,y_train)\n",
    "    \n",
    "    svm_model = LinearSVC()\n",
    "    svm_model.fit(X_train_cv1, y_train)\n",
    "\n",
    "    randomforest = RandomForestClassifier(n_estimators=100, random_state=42)\n",
    "    randomforest.fit(X_train_cv1, y_train)\n",
    "    print('rdf done')\n",
    "    \n",
    "    # Create a list of F1 score of all models \n",
    "    f1_score_data = {'F1 Score':[f1_score(lr.predict(X_test_cv1), y_test), f1_score(knn.predict(X_test_cv1), y_test), \n",
    "                                f1_score(xgb.predict(X_test_cv1),y_test),\n",
    "                                f1_score(svm_model.predict(X_test_cv1), y_test), f1_score(randomforest.predict(X_test_cv1), y_test)]} \n",
    "                          \n",
    "    # Create DataFrame with the model names as column labels \n",
    "    df_f1 = pd.DataFrame(f1_score_data, index=['Log Regression','KNN', 'XGB', 'SVM', 'Random Forest'])\n",
    "\n",
    "#     accuracy_data = {'Accuracy Score':[accuracy_score(lr.predict(X_test_cv1), y_test), accuracy_score(knn.predict(X_test_cv1), y_test), \n",
    "#                                 accuracy_score(xgb.predict(X_test_cv1),y_test),\n",
    "#                                 accuracy_score(svm_model.predict(X_test_cv1), y_test), accuracy_score(randomforest.predict(X_test_cv1), y_test)]} \n",
    "                          \n",
    "    # Create DataFrame with the model names as column labels \n",
    "#     df_acc = pd.DataFrame(accuracy_data, index=['Log Regression','KNN', 'XGB', 'SVM', 'Random Forest'])\n",
    "    return df_f1\n"
   ]
  },
  {
   "cell_type": "markdown",
   "id": "liked-steel",
   "metadata": {
    "papermill": {
     "duration": 0.041404,
     "end_time": "2021-06-25T13:12:55.324248",
     "exception": false,
     "start_time": "2021-06-25T13:12:55.282844",
     "status": "completed"
    },
    "tags": []
   },
   "source": [
    "# Assigning Binary Value to Labels"
   ]
  },
  {
   "cell_type": "code",
   "execution_count": 21,
   "id": "physical-concentrate",
   "metadata": {
    "execution": {
     "iopub.execute_input": "2021-06-25T13:12:55.401467Z",
     "iopub.status.busy": "2021-06-25T13:12:55.400481Z",
     "iopub.status.idle": "2021-06-25T13:12:55.419850Z",
     "shell.execute_reply": "2021-06-25T13:12:55.420396Z",
     "shell.execute_reply.started": "2021-06-25T11:23:56.919478Z"
    },
    "papermill": {
     "duration": 0.057596,
     "end_time": "2021-06-25T13:12:55.420582",
     "exception": false,
     "start_time": "2021-06-25T13:12:55.362986",
     "status": "completed"
    },
    "tags": []
   },
   "outputs": [
    {
     "data": {
      "text/html": [
       "<div>\n",
       "<style scoped>\n",
       "    .dataframe tbody tr th:only-of-type {\n",
       "        vertical-align: middle;\n",
       "    }\n",
       "\n",
       "    .dataframe tbody tr th {\n",
       "        vertical-align: top;\n",
       "    }\n",
       "\n",
       "    .dataframe thead th {\n",
       "        text-align: right;\n",
       "    }\n",
       "</style>\n",
       "<table border=\"1\" class=\"dataframe\">\n",
       "  <thead>\n",
       "    <tr style=\"text-align: right;\">\n",
       "      <th></th>\n",
       "      <th>comment_text</th>\n",
       "      <th>target</th>\n",
       "    </tr>\n",
       "  </thead>\n",
       "  <tbody>\n",
       "    <tr>\n",
       "      <th>4</th>\n",
       "      <td>haha you guys are a bunch of losers</td>\n",
       "      <td>1.0</td>\n",
       "    </tr>\n",
       "    <tr>\n",
       "      <th>31</th>\n",
       "      <td>yet call out all muslims for the acts of a few...</td>\n",
       "      <td>1.0</td>\n",
       "    </tr>\n",
       "    <tr>\n",
       "      <th>34</th>\n",
       "      <td>this bitch is nuts  who would read a book by a...</td>\n",
       "      <td>1.0</td>\n",
       "    </tr>\n",
       "    <tr>\n",
       "      <th>289</th>\n",
       "      <td>you re an idiot</td>\n",
       "      <td>1.0</td>\n",
       "    </tr>\n",
       "    <tr>\n",
       "      <th>306</th>\n",
       "      <td>who cares   stark trek and star wars fans are ...</td>\n",
       "      <td>1.0</td>\n",
       "    </tr>\n",
       "  </tbody>\n",
       "</table>\n",
       "</div>"
      ],
      "text/plain": [
       "                                          comment_text  target\n",
       "4                 haha you guys are a bunch of losers      1.0\n",
       "31   yet call out all muslims for the acts of a few...     1.0\n",
       "34   this bitch is nuts  who would read a book by a...     1.0\n",
       "289                                   you re an idiot      1.0\n",
       "306  who cares   stark trek and star wars fans are ...     1.0"
      ]
     },
     "execution_count": 21,
     "metadata": {},
     "output_type": "execute_result"
    }
   ],
   "source": [
    "balanced_train['target']=np.where(balanced_train['target']>0.7,1.0,0.0)\n",
    "balanced_train.head()"
   ]
  },
  {
   "cell_type": "code",
   "execution_count": 22,
   "id": "unexpected-expense",
   "metadata": {
    "execution": {
     "iopub.execute_input": "2021-06-25T13:12:55.495377Z",
     "iopub.status.busy": "2021-06-25T13:12:55.494431Z",
     "iopub.status.idle": "2021-06-25T13:31:02.742901Z",
     "shell.execute_reply": "2021-06-25T13:31:02.742187Z",
     "shell.execute_reply.started": "2021-06-25T11:24:00.348175Z"
    },
    "papermill": {
     "duration": 1087.286252,
     "end_time": "2021-06-25T13:31:02.743171",
     "exception": false,
     "start_time": "2021-06-25T13:12:55.456919",
     "status": "completed"
    },
    "tags": []
   },
   "outputs": [
    {
     "name": "stdout",
     "output_type": "stream",
     "text": [
      "lr done\n",
      "[13:13:16] WARNING: ../src/learner.cc:1095: Starting in XGBoost 1.3.0, the default evaluation metric used with the objective 'binary:logistic' was changed from 'error' to 'logloss'. Explicitly set eval_metric if you'd like to restore the old behavior.\n",
      "rdf done\n",
      "Time taken: 1087.187702178955 seconds\n"
     ]
    },
    {
     "data": {
      "text/html": [
       "<div>\n",
       "<style scoped>\n",
       "    .dataframe tbody tr th:only-of-type {\n",
       "        vertical-align: middle;\n",
       "    }\n",
       "\n",
       "    .dataframe tbody tr th {\n",
       "        vertical-align: top;\n",
       "    }\n",
       "\n",
       "    .dataframe thead th {\n",
       "        text-align: right;\n",
       "    }\n",
       "</style>\n",
       "<table border=\"1\" class=\"dataframe\">\n",
       "  <thead>\n",
       "    <tr style=\"text-align: right;\">\n",
       "      <th></th>\n",
       "      <th>F1 Score(target)</th>\n",
       "    </tr>\n",
       "  </thead>\n",
       "  <tbody>\n",
       "    <tr>\n",
       "      <th>Log Regression</th>\n",
       "      <td>0.827090</td>\n",
       "    </tr>\n",
       "    <tr>\n",
       "      <th>KNN</th>\n",
       "      <td>0.189752</td>\n",
       "    </tr>\n",
       "    <tr>\n",
       "      <th>XGB</th>\n",
       "      <td>0.801056</td>\n",
       "    </tr>\n",
       "    <tr>\n",
       "      <th>SVM</th>\n",
       "      <td>0.849977</td>\n",
       "    </tr>\n",
       "    <tr>\n",
       "      <th>Random Forest</th>\n",
       "      <td>0.819090</td>\n",
       "    </tr>\n",
       "  </tbody>\n",
       "</table>\n",
       "</div>"
      ],
      "text/plain": [
       "                F1 Score(target)\n",
       "Log Regression          0.827090\n",
       "KNN                     0.189752\n",
       "XGB                     0.801056\n",
       "SVM                     0.849977\n",
       "Random Forest           0.819090"
      ]
     },
     "execution_count": 22,
     "metadata": {},
     "output_type": "execute_result"
    }
   ],
   "source": [
    "import time\n",
    "\n",
    "t0 = time.time()\n",
    "\n",
    "df_tox_cv = cv_tf_train_test(balanced_train, 'target', TfidfVectorizer, (1,1))\n",
    "df_tox_cv.rename(columns={'F1 Score': 'F1 Score(target)'}, inplace=True)\n",
    "\n",
    "t1 = time.time()\n",
    "\n",
    "total = 'Time taken: {} seconds'.format(t1-t0)\n",
    "print(total)\n",
    "\n",
    "df_tox_cv"
   ]
  },
  {
   "cell_type": "code",
   "execution_count": 23,
   "id": "trained-hungarian",
   "metadata": {
    "execution": {
     "iopub.execute_input": "2021-06-25T13:31:04.034030Z",
     "iopub.status.busy": "2021-06-25T13:31:04.033123Z",
     "iopub.status.idle": "2021-06-25T13:31:14.816906Z",
     "shell.execute_reply": "2021-06-25T13:31:14.816253Z",
     "shell.execute_reply.started": "2021-06-24T19:18:20.127787Z"
    },
    "papermill": {
     "duration": 12.037049,
     "end_time": "2021-06-25T13:31:14.817081",
     "exception": false,
     "start_time": "2021-06-25T13:31:02.780032",
     "status": "completed"
    },
    "tags": []
   },
   "outputs": [],
   "source": [
    "X = balanced_train.comment_text\n",
    "y = balanced_train['target']\n",
    "\n",
    "X_train, X_test, y_train, y_test = train_test_split(X, y, test_size=0.3, random_state=42)\n",
    "\n",
    "# Initiate a Tfidf vectorizer\n",
    "tfv = TfidfVectorizer(ngram_range=(1,1), stop_words='english')\n",
    "\n",
    "X_train_fit = tfv.fit_transform(X_train)  # Convert the X data into a document term matrix dataframe\n",
    "X_test_fit = tfv.transform(X_test)  # Converts the X_test comments into Vectorized format\n"
   ]
  },
  {
   "cell_type": "markdown",
   "id": "spread-equation",
   "metadata": {
    "papermill": {
     "duration": 0.036567,
     "end_time": "2021-06-25T13:31:14.890722",
     "exception": false,
     "start_time": "2021-06-25T13:31:14.854155",
     "status": "completed"
    },
    "tags": []
   },
   "source": [
    "# SVM CLassifier"
   ]
  },
  {
   "cell_type": "code",
   "execution_count": 24,
   "id": "willing-interface",
   "metadata": {
    "execution": {
     "iopub.execute_input": "2021-06-25T13:31:14.969937Z",
     "iopub.status.busy": "2021-06-25T13:31:14.969006Z",
     "iopub.status.idle": "2021-06-25T13:31:14.972258Z",
     "shell.execute_reply": "2021-06-25T13:31:14.971685Z",
     "shell.execute_reply.started": "2021-06-24T19:23:41.820912Z"
    },
    "papermill": {
     "duration": 0.044653,
     "end_time": "2021-06-25T13:31:14.972392",
     "exception": false,
     "start_time": "2021-06-25T13:31:14.927739",
     "status": "completed"
    },
    "tags": []
   },
   "outputs": [],
   "source": [
    "# from sklearn.calibration import CalibratedClassifierCV\n",
    "# svm_model = LinearSVC()\n",
    "# clf = CalibratedClassifierCV(svm_model) \n",
    "# clf.fit(X_train_fit, y_train)\n",
    "    \n",
    "\n",
    "# my_ans=[]\n",
    "# for row in range(test.shape[0]):\n",
    "#     comment=[test['comment_text'][row]]\n",
    "#     cmt=tfv.transform(comment)\n",
    "#     my_ans.append(clf.predict_proba(cmt)[:,1])\n",
    "\n",
    "# data={'id':[],\n",
    "#       'prediction':[]\n",
    "#      }\n",
    "# df=pd.DataFrame(data)\n",
    "\n",
    "# df['id']=test['id']\n",
    "\n",
    "# df['prediction']=pd.DataFrame(my_ans)"
   ]
  },
  {
   "cell_type": "markdown",
   "id": "shared-scanner",
   "metadata": {
    "papermill": {
     "duration": 0.036122,
     "end_time": "2021-06-25T13:31:15.044884",
     "exception": false,
     "start_time": "2021-06-25T13:31:15.008762",
     "status": "completed"
    },
    "tags": []
   },
   "source": [
    "# Logistic Regressor CLassifier"
   ]
  },
  {
   "cell_type": "code",
   "execution_count": 25,
   "id": "sudden-shelter",
   "metadata": {
    "execution": {
     "iopub.execute_input": "2021-06-25T13:31:15.123590Z",
     "iopub.status.busy": "2021-06-25T13:31:15.122896Z",
     "iopub.status.idle": "2021-06-25T13:31:15.126097Z",
     "shell.execute_reply": "2021-06-25T13:31:15.125544Z"
    },
    "papermill": {
     "duration": 0.044055,
     "end_time": "2021-06-25T13:31:15.126236",
     "exception": false,
     "start_time": "2021-06-25T13:31:15.082181",
     "status": "completed"
    },
    "tags": []
   },
   "outputs": [],
   "source": [
    "# lr=LogisticRegression()\n",
    "# lr.fit(X_train_fit,y_train)\n",
    "\n",
    "# my_ans=[]\n",
    "# for row in range(test.shape[0]):\n",
    "#     comment=[test['comment_text'][row]]\n",
    "#     cmt=tfv.transform(comment)\n",
    "#     my_ans.append(lr.predict_proba(cmt)[:,1])\n",
    "\n",
    "# data={'id':[],\n",
    "#       'prediction':[]\n",
    "#      }\n",
    "# df=pd.DataFrame(data)\n",
    "\n",
    "# df['id']=test['id']\n",
    "\n",
    "# df['prediction']=pd.DataFrame(my_ans)"
   ]
  },
  {
   "cell_type": "markdown",
   "id": "perceived-mission",
   "metadata": {
    "papermill": {
     "duration": 0.035929,
     "end_time": "2021-06-25T13:31:15.198576",
     "exception": false,
     "start_time": "2021-06-25T13:31:15.162647",
     "status": "completed"
    },
    "tags": []
   },
   "source": [
    "# Random Forest CLassifier"
   ]
  },
  {
   "cell_type": "code",
   "execution_count": 26,
   "id": "deluxe-mentor",
   "metadata": {
    "execution": {
     "iopub.execute_input": "2021-06-25T13:31:15.279176Z",
     "iopub.status.busy": "2021-06-25T13:31:15.278556Z",
     "iopub.status.idle": "2021-06-25T14:11:41.282747Z",
     "shell.execute_reply": "2021-06-25T14:11:41.281888Z"
    },
    "papermill": {
     "duration": 2426.048249,
     "end_time": "2021-06-25T14:11:41.283024",
     "exception": false,
     "start_time": "2021-06-25T13:31:15.234775",
     "status": "completed"
    },
    "tags": []
   },
   "outputs": [],
   "source": [
    "randomforest = RandomForestClassifier(n_estimators=100,random_state=42)\n",
    "randomforest.fit(X_train_fit,y_train)\n",
    "\n",
    "my_ans=[]\n",
    "for row in range(test.shape[0]):\n",
    "    comment=[test['comment_text'][row]]\n",
    "    cmt=tfv.transform(comment)\n",
    "    my_ans.append(randomforest.predict_proba(cmt)[:,1])\n",
    "\n",
    "data={'id':[],\n",
    "      'prediction':[]\n",
    "     }\n",
    "df=pd.DataFrame(data)\n",
    "\n",
    "df['id']=test['id']\n",
    "\n",
    "df['prediction']=pd.DataFrame(my_ans)"
   ]
  },
  {
   "cell_type": "code",
   "execution_count": 27,
   "id": "subsequent-delaware",
   "metadata": {
    "execution": {
     "iopub.execute_input": "2021-06-25T14:11:41.365661Z",
     "iopub.status.busy": "2021-06-25T14:11:41.364646Z",
     "iopub.status.idle": "2021-06-25T14:11:41.646032Z",
     "shell.execute_reply": "2021-06-25T14:11:41.645439Z",
     "shell.execute_reply.started": "2021-06-24T19:27:30.036959Z"
    },
    "papermill": {
     "duration": 0.324363,
     "end_time": "2021-06-25T14:11:41.646185",
     "exception": false,
     "start_time": "2021-06-25T14:11:41.321822",
     "status": "completed"
    },
    "tags": []
   },
   "outputs": [],
   "source": [
    "df.to_csv('submission.csv',index=False)"
   ]
  },
  {
   "cell_type": "code",
   "execution_count": null,
   "id": "floating-population",
   "metadata": {
    "papermill": {
     "duration": 0.037532,
     "end_time": "2021-06-25T14:11:41.720531",
     "exception": false,
     "start_time": "2021-06-25T14:11:41.682999",
     "status": "completed"
    },
    "tags": []
   },
   "outputs": [],
   "source": []
  }
 ],
 "metadata": {
  "kernelspec": {
   "display_name": "Python 3",
   "language": "python",
   "name": "python3"
  },
  "language_info": {
   "codemirror_mode": {
    "name": "ipython",
    "version": 3
   },
   "file_extension": ".py",
   "mimetype": "text/x-python",
   "name": "python",
   "nbconvert_exporter": "python",
   "pygments_lexer": "ipython3",
   "version": "3.7.10"
  },
  "papermill": {
   "default_parameters": {},
   "duration": 3761.196942,
   "end_time": "2021-06-25T14:11:44.712315",
   "environment_variables": {},
   "exception": null,
   "input_path": "__notebook__.ipynb",
   "output_path": "__notebook__.ipynb",
   "parameters": {},
   "start_time": "2021-06-25T13:09:03.515373",
   "version": "2.3.3"
  }
 },
 "nbformat": 4,
 "nbformat_minor": 5
}
